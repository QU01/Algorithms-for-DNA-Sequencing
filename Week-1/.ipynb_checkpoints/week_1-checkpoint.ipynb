{
 "cells": [
  {
   "cell_type": "markdown",
   "id": "9d205c41-6531-4ac7-98b7-81901abbc1a1",
   "metadata": {},
   "source": [
    "# **Programming Homework 1 Instructions (Read First)**"
   ]
  },
  {
   "cell_type": "markdown",
   "id": "a0aba72b-a127-46c6-a07e-81b1cce9e909",
   "metadata": {},
   "source": [
    "In lecture and in a practical, we saw an implementation of the naive exact matching algorithm:"
   ]
  },
  {
   "cell_type": "code",
   "execution_count": 4,
   "id": "c55f2cdb-eefc-41d3-b9a5-057b895ff13c",
   "metadata": {},
   "outputs": [],
   "source": [
    "def naive(p, t):\n",
    "    occurrences = []\n",
    "    for i in range(len(t) - len(p) + 1):  # loop over alignments\n",
    "        match = True\n",
    "        for j in range(len(p)):  # loop over characters\n",
    "            if t[i+j] != p[j]:  # compare characters\n",
    "                match = False\n",
    "                break\n",
    "        if match:\n",
    "            occurrences.append(i)  # all chars matched; record\n",
    "    return occurrences"
   ]
  },
  {
   "cell_type": "markdown",
   "id": "b7c9a2ba-422d-4fed-b223-8f23d957b691",
   "metadata": {},
   "source": [
    "...and we saw a function that takes a DNA string and returns its reverse complement:"
   ]
  },
  {
   "cell_type": "code",
   "execution_count": 5,
   "id": "78faa267-26c4-4d19-b7d7-5c3d014d9a60",
   "metadata": {},
   "outputs": [],
   "source": [
    "def reverseComplement(s):\n",
    "    complement = {'A': 'T', 'C': 'G', 'G': 'C', 'T': 'A', 'N': 'N'}\n",
    "    t = ''\n",
    "    for base in s:\n",
    "        t = complement[base] + t\n",
    "    return t\n"
   ]
  },
  {
   "cell_type": "markdown",
   "id": "badcbdeb-7fa3-40db-8e9f-4a29a22d7db0",
   "metadata": {},
   "source": [
    "...and we saw a function that parses a DNA reference genome from a file in the FASTA format."
   ]
  },
  {
   "cell_type": "code",
   "execution_count": 6,
   "id": "95391fa8-6c86-4374-98c6-6ba92466e0a7",
   "metadata": {},
   "outputs": [],
   "source": [
    "def readGenome(filename):\n",
    "    genome = ''\n",
    "    with open(filename, 'r') as f:\n",
    "        for line in f:\n",
    "            # ignore header line with genome information\n",
    "            if not line[0] == '>':\n",
    "                genome += line.rstrip()\n",
    "    return genome\n"
   ]
  },
  {
   "cell_type": "markdown",
   "id": "e8190488-6787-444c-b6f4-ee39e0bcdbe8",
   "metadata": {},
   "source": [
    "...and we saw a function that parses the read and quality strings from a FASTQ file containing sequencing reads."
   ]
  },
  {
   "cell_type": "code",
   "execution_count": 7,
   "id": "8bbcdbc8-2d91-4159-a31a-b7ed9355083c",
   "metadata": {},
   "outputs": [],
   "source": [
    "def readFastq(filename):\n",
    "    sequences = []\n",
    "    qualities = []\n",
    "    with open(filename) as fh:\n",
    "        while True:\n",
    "            fh.readline()  # skip name line\n",
    "            seq = fh.readline().rstrip()  # read base sequence\n",
    "            fh.readline()  # skip placeholder line\n",
    "            qual = fh.readline().rstrip() # base quality line\n",
    "            if len(seq) == 0:\n",
    "                break\n",
    "            sequences.append(seq)\n",
    "            qualities.append(qual)\n",
    "    return sequences, qualities"
   ]
  },
  {
   "cell_type": "markdown",
   "id": "94fae7d7-16c2-4a17-b058-843aa76b08da",
   "metadata": {},
   "source": [
    "First, implement a version of the naive exact matching algorithm that is strand-aware. That is, instead of looking only for occurrences of P in T, additionally look for occurrences of thereverse complement of P in T. If P is ACT, your function should find occurrences of both ACTand its reverse complement AGT in T.\n",
    "\n",
    "If P and its reverse complement are identical (e.g. AACGTT), then a given match offset should be reported only once. So if your new function is called naive_with_rc, then the old naivefunction and your new naive_with_rc function should return the same results when P equals its reverse complement.\n",
    "\n",
    "Hint: See this notebook for a few examples you can use to test your naive_with_rc function.\n",
    "\n",
    "Next, download and parse the lambda virus genome, at: https://d28rh4a8wq0iu5.cloudfront.net/ads1/data/lambda_virus.fa"
   ]
  },
  {
   "cell_type": "code",
   "execution_count": 3,
   "id": "09f7a543-d530-4593-86d6-08d604f7f626",
   "metadata": {},
   "outputs": [],
   "source": [
    "from Bio import SeqIO\n",
    "import Bio"
   ]
  },
  {
   "cell_type": "code",
   "execution_count": 8,
   "id": "b21340c9-b4c8-4168-abac-73e7f30bdbf9",
   "metadata": {},
   "outputs": [
    {
     "name": "stdout",
     "output_type": "stream",
     "text": [
      "--2021-07-18 13:31:21--  https://d28rh4a8wq0iu5.cloudfront.net/ads1/data/lambda_virus.fa\n",
      "Resolviendo d28rh4a8wq0iu5.cloudfront.net (d28rh4a8wq0iu5.cloudfront.net)... 65.9.114.156, 65.9.114.155, 65.9.114.31, ...\n",
      "Conectando con d28rh4a8wq0iu5.cloudfront.net (d28rh4a8wq0iu5.cloudfront.net)[65.9.114.156]:443... conectado.\n",
      "Petición HTTP enviada, esperando respuesta... 200 OK\n",
      "Longitud: 49270 (48K) [application/octet-stream]\n",
      "Grabando a: “lambda_virus.fa”\n",
      "\n",
      "lambda_virus.fa     100%[===================>]  48.12K  --.-KB/s    en 0.04s   \n",
      "\n",
      "2021-07-18 13:31:22 (1.27 MB/s) - “lambda_virus.fa” guardado [49270/49270]\n",
      "\n"
     ]
    }
   ],
   "source": [
    "!wget https://d28rh4a8wq0iu5.cloudfront.net/ads1/data/lambda_virus.fa"
   ]
  },
  {
   "cell_type": "code",
   "execution_count": 64,
   "id": "3fa21da5-7f9e-4c73-aa80-6f095dcdaa06",
   "metadata": {},
   "outputs": [],
   "source": [
    "virus = readGenome('lambda_virus.fa')"
   ]
  },
  {
   "cell_type": "markdown",
   "id": "874d1734-941d-41cb-8516-a8b77c05ffdd",
   "metadata": {},
   "source": [
    "### **Exploratory Data Analysis**"
   ]
  },
  {
   "cell_type": "code",
   "execution_count": 29,
   "id": "7a09e942-a42d-487b-98a2-267e024593e6",
   "metadata": {},
   "outputs": [],
   "source": [
    "import matplotlib.pyplot as plt\n",
    "import numpy as np\n",
    "import pandas as pd"
   ]
  },
  {
   "cell_type": "code",
   "execution_count": 14,
   "id": "60f2b9bc-543d-4de2-afac-9a45c75b987d",
   "metadata": {},
   "outputs": [
    {
     "name": "stdout",
     "output_type": "stream",
     "text": [
      "GGGCGGCGACCTCGCGGGTTTTCGCTATTTATGAAAATTTTCCGGTTTAAGGCGTTTCCGTTCTTCTTCGTCATAACTTAATGTTTTTATTTAAAATACCCTCTGAAAAGAAAGGAAACGACAGGTGCTGAAAGCGAGGCTTTTTGGCCTCTGTCGTTTCCTTTCTCTGTTTTTGTCCGTGGAATGAACAATGGAAGTCAACAAAAAGCAGCTGGCTGACATTTTCGGTGCGAGTATCCGTACCATTCAGAACTGGCAGGAACAGGGAATGCCCGTTCTGCGAGGCGGTGGCAAGGGTAATGAGGTGCTTTATGACTCTGCCGCCGTCATAAAATGGTATGCCGAAAGGGATGCTGAAATTGAGAACGAAAAGCTGCGCCGGGAGGTTGAAGAACTGCGGCAGGCCAGCGAGGCAGATCTCCAGCCAGGAACTATTGAGTACGAACGCCATCGACTTACGCGTGCGCAGGCCGACGCACAGGAACTGAAGAATGCCAGAGACTCCGCTGAAGTGGTGGAAACCGCATTCTGTACTTTCGTGCTGTCGCGGATCGCAGGTGAAATTGCCAGTATTCTCGACGGGCTCCCCCTGTCGGTGCAGCGGCGTTTTCCGGAACTGGAAAACCGACATGTTGATTTCCTGAAACGGGATATCATCAAAGCCATGAACAAAGCAGCCGCGCTGGATGAACTGATACCGGGGTTGCTGAGTGAATATATCGAACAGTCAGGTTAACAGGCTGCGGCATTTTGTCCGCGCCGGGCTTCGCTCACTGTTCAGGCCGGAGCCACAGACCGCCGTTGAATGGGCGGATGCTAATTACTATCTCCCGAAAGAATCCGCATACCAGGAAGGGCGCTGGGAAACACTGCCCTTTCAGCGGGCCATCATGAATGCGATGGGCAGCGACTACATCCGTGAGGTGAATGTGGTGAAGTCTGCCCGTGTCGGTTATTCCAAAATGCTGCTGGGTGTTTATGCCTACTTTATAGAGCATAA\n"
     ]
    }
   ],
   "source": [
    "print(virus[0:1000])"
   ]
  },
  {
   "cell_type": "code",
   "execution_count": 15,
   "id": "ad33142f-6fe1-4dac-b728-94294bd32c1a",
   "metadata": {},
   "outputs": [
    {
     "name": "stdout",
     "output_type": "stream",
     "text": [
      "48502\n"
     ]
    }
   ],
   "source": [
    "print(len(virus))"
   ]
  },
  {
   "cell_type": "code",
   "execution_count": 16,
   "id": "dbaa89fe-d31b-4e82-a22b-aa175ff583a3",
   "metadata": {},
   "outputs": [],
   "source": [
    "import collections"
   ]
  },
  {
   "cell_type": "code",
   "execution_count": 40,
   "id": "b256c6b7-858a-4c2f-9dd3-cb92103a43e0",
   "metadata": {},
   "outputs": [],
   "source": [
    "freq = collections.Counter(virus)"
   ]
  },
  {
   "cell_type": "code",
   "execution_count": 42,
   "id": "9f82f408-48e6-4a69-91f7-990cc10312d6",
   "metadata": {},
   "outputs": [],
   "source": [
    "freq = np.array([list(freq.keys()),list(freq.values())])"
   ]
  },
  {
   "cell_type": "code",
   "execution_count": 55,
   "id": "618a1060-edbe-441b-9931-d56b0bea6003",
   "metadata": {},
   "outputs": [
    {
     "data": {
      "text/plain": [
       "<BarContainer object of 4 artists>"
      ]
     },
     "execution_count": 55,
     "metadata": {},
     "output_type": "execute_result"
    },
    {
     "data": {
      "image/png": "[encoded data removed]",
      "text/plain": [
       "<Figure size 432x288 with 1 Axes>"
      ]
     },
     "metadata": {
      "needs_background": "light"
     },
     "output_type": "display_data"
    }
   ],
   "source": [
    "plt.bar(freq[0],freq[1].astype(np.int))"
   ]
  },
  {
   "cell_type": "markdown",
   "id": "4767844e-9953-41e4-be0f-cde83a05e281",
   "metadata": {},
   "source": [
    "How many times does \\verb|AGGT|AGGT or its reverse complement (\\verb|ACCT|ACCT) occur in the lambda virus genome?  E.g. if \\verb|AGGT|AGGT occurs 10 times and \\verb|ACCT|ACCT occurs 12 times, you should report 22."
   ]
  },
  {
   "cell_type": "code",
   "execution_count": 65,
   "id": "4c369f94-d9c8-4bb1-9f02-c4af7cef6c2e",
   "metadata": {},
   "outputs": [],
   "source": [
    "virusSeq = Bio.Seq.Seq(virus)"
   ]
  },
  {
   "cell_type": "code",
   "execution_count": 61,
   "id": "fb679288-6c95-430c-9f09-5a99c3156ad8",
   "metadata": {},
   "outputs": [
    {
     "data": {
      "text/plain": [
       "306"
      ]
     },
     "execution_count": 61,
     "metadata": {},
     "output_type": "execute_result"
    }
   ],
   "source": [
    "q1 = virus.count('AGGT') + virus.count('ACCT')\n",
    "q1"
   ]
  },
  {
   "cell_type": "markdown",
   "id": "353f1561-684f-4fbc-91e6-708264a0914b",
   "metadata": {},
   "source": [
    "How many times does TTAA or its reverse complement occur in the lambda virus genome? \n",
    "\n",
    "Hint: TTAA and its reverse complement are equal, so remember not to double count."
   ]
  },
  {
   "cell_type": "code",
   "execution_count": 62,
   "id": "cf70a44d-52c6-40c9-b424-3ccd7281d870",
   "metadata": {},
   "outputs": [
    {
     "data": {
      "text/plain": [
       "195"
      ]
     },
     "execution_count": 62,
     "metadata": {},
     "output_type": "execute_result"
    }
   ],
   "source": [
    "q2 = virus.count('TTAA')\n",
    "q2"
   ]
  },
  {
   "cell_type": "markdown",
   "id": "5f1f6aed-7c31-4294-b0bd-37011b0d269c",
   "metadata": {},
   "source": [
    "What is the offset of the leftmost occurrence of ACTAAGT or its reverse complement in the Lambda virus genome?  E.g. if the leftmost occurrence of ACTAAGT is at offset 40 (0-based) and the leftmost occurrence of its reverse complement ACTTAGT is at offset 29, then report 29."
   ]
  },
  {
   "cell_type": "code",
   "execution_count": 67,
   "id": "4633312f-b3d3-4725-a7ae-19dc3e064d87",
   "metadata": {},
   "outputs": [
    {
     "name": "stdout",
     "output_type": "stream",
     "text": [
      "Found \"ACTAAGT\" at 27733:27740\n",
      "Found \"ACTAAGT\" at 45382:45389\n"
     ]
    }
   ],
   "source": [
    "import re\n",
    "pattern = 'ACTAAGT'\n",
    "for match in re.finditer(pattern, virus):\n",
    "    s = match.start()\n",
    "    e = match.end()\n",
    "    print('Found \"%s\" at %d:%d' % (virus[s:e], s, e))"
   ]
  },
  {
   "cell_type": "code",
   "execution_count": 69,
   "id": "0a7dba1e-f9e4-4661-8114-d472681cd0ff",
   "metadata": {},
   "outputs": [
    {
     "name": "stdout",
     "output_type": "stream",
     "text": [
      "Found \"ACTTAGT\" at 26028:26035\n"
     ]
    }
   ],
   "source": [
    "pattern = reverseComplement('ACTAAGT')\n",
    "for match in re.finditer(pattern, virus):\n",
    "    s = match.start()\n",
    "    e = match.end()\n",
    "    print('Found \"%s\" at %d:%d' % (virus[s:e], s, e))"
   ]
  },
  {
   "cell_type": "markdown",
   "id": "78530685-bb23-4a24-9822-aa6fb81d1ff6",
   "metadata": {},
   "source": [
    "What is the offset of the leftmost occurrence of \\verb|AGTCGA|AGTCGA or its reverse complement in the Lambda virus genome?"
   ]
  },
  {
   "cell_type": "code",
   "execution_count": 70,
   "id": "6827f240-9c75-498d-8ef6-06c7e645d28c",
   "metadata": {},
   "outputs": [
    {
     "name": "stdout",
     "output_type": "stream",
     "text": [
      "Found \"AGTCGA\" at 18005:18011\n",
      "Found \"AGTCGA\" at 23320:23326\n",
      "Found \"AGTCGA\" at 33657:33663\n",
      "Found \"AGTCGA\" at 44806:44812\n"
     ]
    }
   ],
   "source": [
    "pattern = 'AGTCGA'\n",
    "for match in re.finditer(pattern, virus):\n",
    "    s = match.start()\n",
    "    e = match.end()\n",
    "    print('Found \"%s\" at %d:%d' % (virus[s:e], s, e))"
   ]
  },
  {
   "cell_type": "code",
   "execution_count": 71,
   "id": "707f260c-e204-4b47-a9d5-7619cda435c3",
   "metadata": {},
   "outputs": [
    {
     "name": "stdout",
     "output_type": "stream",
     "text": [
      "Found \"TCGACT\" at 450:456\n",
      "Found \"TCGACT\" at 1908:1914\n",
      "Found \"TCGACT\" at 2472:2478\n",
      "Found \"TCGACT\" at 41927:41933\n",
      "Found \"TCGACT\" at 45369:45375\n"
     ]
    }
   ],
   "source": [
    "pattern = reverseComplement('AGTCGA')\n",
    "for match in re.finditer(pattern, virus):\n",
    "    s = match.start()\n",
    "    e = match.end()\n",
    "    print('Found \"%s\" at %d:%d' % (virus[s:e], s, e))"
   ]
  },
  {
   "cell_type": "markdown",
   "id": "c7ae5afc-e7dd-49a8-b3de-fe00ede6a875",
   "metadata": {},
   "source": [
    "As we will discuss, sometimes we would like to find approximate matches for P in T. That is, we want to find occurrences with one or more differences.\n",
    "\n",
    "For Questions 5 and 6, make a new version of the \\verb|naive|naive function called naive_2mm that allows up to 2 mismatches per occurrence. Unlike for the previous questions, do not consider the reverse complement here.  We're looking for approximate matches for P itself, not its reverse complement.\n",
    "\n",
    "￼\n",
    "\n",
    "For example, ACTTTA occurs twice in ACTTACTTGATAAAGT, once at offset 0 with 2 mismatches, and once at offset 4 with 1 mismatch. So naive_2mm('ACTTTA', 'ACTTACTTGATAAAGT') should return the list [0, 4]|[0, 4].\n",
    "\n",
    "Hint: See  this notebook for a few examples you can use to test your \\verb|naive_2mm function.\n",
    "\n",
    "How many times does TTCAAGCC occur in the Lambda virus genome when allowing up to 2 mismatches? "
   ]
  },
  {
   "cell_type": "code",
   "execution_count": 73,
   "id": "d401d166-160e-42e8-bb70-78a7361ae5ca",
   "metadata": {},
   "outputs": [],
   "source": [
    "def naive_2mm(p, t):\n",
    "    occurrences = []\n",
    "    for i in range(len(t) - len(p) + 1):  # loop over alignments\n",
    "        count_mismatch = 0\n",
    "        for j in range(len(p)):  # loop over characters\n",
    "            if t[i+j] != p[j]:  # compare characters\n",
    "                count_mismatch += 1\n",
    "        if count_mismatch <= 2:\n",
    "            occurrences.append(i)  # all chars matched; record\n",
    "    return occurrences"
   ]
  },
  {
   "cell_type": "code",
   "execution_count": 76,
   "id": "6dd5aa70-96c8-4cfd-b127-93c89cd9d6ac",
   "metadata": {},
   "outputs": [
    {
     "data": {
      "text/plain": [
       "45"
      ]
     },
     "execution_count": 76,
     "metadata": {},
     "output_type": "execute_result"
    }
   ],
   "source": [
    "q5 = naive_2mm('TTCAAGCC', virus)\n",
    "q5[0]"
   ]
  },
  {
   "cell_type": "markdown",
   "id": "7e351c6e-3b91-4a54-a09c-623c5c3f81ff",
   "metadata": {},
   "source": [
    "What is the offset of the leftmost occurrence of AGGAGGTT in the Lambda virus genome when allowing up to 2 mismatches?"
   ]
  },
  {
   "cell_type": "code",
   "execution_count": 77,
   "id": "c454d8ba-4d7c-4cd5-8228-6490ed42f65f",
   "metadata": {},
   "outputs": [
    {
     "data": {
      "text/plain": [
       "49"
      ]
     },
     "execution_count": 77,
     "metadata": {},
     "output_type": "execute_result"
    }
   ],
   "source": [
    "q6 = naive_2mm('AGGAGGTT', virus)\n",
    "q6[0]"
   ]
  },
  {
   "cell_type": "markdown",
   "id": "f0a8b6b7-6533-4640-b33f-5530b1e25487",
   "metadata": {},
   "source": [
    "Finally, download and parse the provided FASTQ file containing real DNA sequencing reads derived from a human:\n",
    "\n",
    " https://d28rh4a8wq0iu5.cloudfront.net/ads1/data/ERR037900_1.first1000.fastq\n",
    "\n",
    "Note that the file has many reads in it and you should examine all of them together when answering this question.  The reads are taken from this study:\n",
    "\n",
    "Ajay, S. S., Parker, S. C., Abaan, H. O., Fajardo, K. V. F., & Margulies, E. H. (2011). Accurate\n",
    "\n",
    "and comprehensive sequencing of personal genomes. Genome research, 21(9), 1498-1505. \n",
    "\n",
    "This dataset has something wrong with it; one of the sequencing cycles is poor quality.\n",
    "\n",
    "Report which sequencing cycle has the problem.  Remember that a sequencing cycle corresponds to a particular offset in all the reads. For example, if the leftmost read position seems to have a problem consistently across reads, report 0. If the fourth position from the left has the problem, report 3. Do whatever analysis you think is needed to identify the bad cycle. It might help to review the \"Analyzing reads by position\" video."
   ]
  },
  {
   "cell_type": "code",
   "execution_count": 78,
   "id": "4f96c61b-26ef-443c-8fec-75ab7aed79cd",
   "metadata": {},
   "outputs": [
    {
     "name": "stdout",
     "output_type": "stream",
     "text": [
      "--2021-07-18 14:18:57--  https://d28rh4a8wq0iu5.cloudfront.net/ads1/data/ERR037900_1.first1000.fastq\n",
      "Resolviendo d28rh4a8wq0iu5.cloudfront.net (d28rh4a8wq0iu5.cloudfront.net)... 65.9.114.156, 65.9.114.182, 65.9.114.31, ...\n",
      "Conectando con d28rh4a8wq0iu5.cloudfront.net (d28rh4a8wq0iu5.cloudfront.net)[65.9.114.156]:443... conectado.\n",
      "Petición HTTP enviada, esperando respuesta... 200 OK\n",
      "Longitud: 241626 (236K) [application/octet-stream]\n",
      "Grabando a: “ERR037900_1.first1000.fastq”\n",
      "\n",
      "ERR037900_1.first10 100%[===================>] 235.96K   791KB/s    en 0.3s    \n",
      "\n",
      "2021-07-18 14:18:58 (791 KB/s) - “ERR037900_1.first1000.fastq” guardado [241626/241626]\n",
      "\n"
     ]
    }
   ],
   "source": [
    "!wget https://d28rh4a8wq0iu5.cloudfront.net/ads1/data/ERR037900_1.first1000.fastq"
   ]
  },
  {
   "cell_type": "code",
   "execution_count": 83,
   "id": "22305d66-4495-461c-89e7-b941882d4ecc",
   "metadata": {},
   "outputs": [
    {
     "name": "stdout",
     "output_type": "stream",
     "text": [
      "ID: ==>=7DFFDHHHHHHGHHHEFDCA55445FECDA=<=<>8EEGDD7A4D44-5/><:7=:DAA####################################\n",
      "Name: ==>=7DFFDHHHHHHGHHHEFDCA55445FECDA=<=<>8EEGDD7A4D44-5/><:7=:DAA####################################\n",
      "Description: ==>=7DFFDHHHHHHGHHHEFDCA55445FECDA=<=<>8EEGDD7A4D44-5/><:7=:DAA####################################\n",
      "Number of features: 0\n",
      "Seq('@ERR037900.47509.7.42.5729.198593/1TAGGGTAGGGTTAGGGTTA...AT+')\n",
      "ID: C@C@DADFFFGGGG<DDDDC<CC@>>4<=5544535541@===58@A>8C??9;5445555135/5544@><94<:=@4A###################\n",
      "Name: C@C@DADFFFGGGG<DDDDC<CC@>>4<=5544535541@===58@A>8C??9;5445555135/5544@><94<:=@4A###################\n",
      "Description: C@C@DADFFFGGGG<DDDDC<CC@>>4<=5544535541@===58@A>8C??9;5445555135/5544@><94<:=@4A###################\n",
      "Number of features: 0\n",
      "Seq('@ERR037900.180509.8.1.1903.189882/1TTAGGGTTAGGGTTAGGGT...CG+')\n",
      "ID: >>9==>==.555546?A?AC;C<C=>8=>???6:8=>:555554;F=AC##################################################\n",
      "Name: >>9==>==.555546?A?AC;C<C=>8=>???6:8=>:555554;F=AC##################################################\n",
      "Description: >>9==>==.555546?A?AC;C<C=>8=>???6:8=>:555554;F=AC##################################################\n",
      "Number of features: 0\n",
      "Seq('@ERR037900.418509.2.27.12207.142740/1CTAACCCTAACCCTAAC...GT+')\n",
      "ID: =@=@BFFFCHHHHHHHEHHECFBFFDCFDDDD<D@DDD7<9@=>?CEFDF;FBFDD8B>FED@=1#43-54558<=7@=C97>C###############\n",
      "Name: =@=@BFFFCHHHHHHHEHHECFBFFDCFDDDD<D@DDD7<9@=>?CEFDF;FBFDD8B>FED@=1#43-54558<=7@=C97>C###############\n",
      "Description: =@=@BFFFCHHHHHHHEHHECFBFFDCFDDDD<D@DDD7<9@=>?CEFDF;FBFDD8B>FED@=1#43-54558<=7@=C97>C###############\n",
      "Number of features: 0\n",
      "Seq('@ERR037900.440509.3.47.20196.20501/1GGGTTAGGGTTAGGGTTA...###')\n"
     ]
    }
   ],
   "source": [
    "with open(\"ERR037900_1.first1000.fastq\") as handle:\n",
    "    for record in SeqIO.parse(handle, \"fasta\"):\n",
    "        print(record)"
   ]
  },
  {
   "cell_type": "code",
   "execution_count": null,
   "id": "e0dc2529-46d0-4aeb-a5cc-017e59a2df26",
   "metadata": {},
   "outputs": [],
   "source": []
  }
 ],
 "metadata": {
  "kernelspec": {
   "display_name": "Python 3 (ipykernel)",
   "language": "python",
   "name": "python3"
  },
  "language_info": {
   "codemirror_mode": {
    "name": "ipython",
    "version": 3
   },
   "file_extension": ".py",
   "mimetype": "text/x-python",
   "name": "python",
   "nbconvert_exporter": "python",
   "pygments_lexer": "ipython3",
   "version": "3.9.6"
  }
 },
 "nbformat": 4,
 "nbformat_minor": 5
}
