{
 "cells": [
  {
   "cell_type": "markdown",
   "metadata": {},
   "source": [
    "## **Boyer-Moore**"
   ]
  },
  {
   "cell_type": "code",
   "execution_count": 1,
   "metadata": {},
   "outputs": [],
   "source": [
    "def boyer_moore(p, p_bm, t):\n",
    "    i = 0\n",
    "    ocurrences = []\n",
    "    while i < len(t) - len(p) + 1:\n",
    "        shift = 1\n",
    "        mismatched = False\n",
    "        for j in range(len(p),-1,-1,-1):\n",
    "            if not p[j] == t[j+i]:\n",
    "                skip_bc = p_bm.bad_character_rule(j, t[j+i])\n",
    "                skip_gs = p_bm.good_sufix_rule(j)\n",
    "                mismatched = True\n",
    "                break\n",
    "            if not mismatched:\n",
    "                ocurrences.append(i)\n",
    "                skip_gs = p_bm.match_skip()\n",
    "                shift = max(shift, skip_gs)\n",
    "            shift = shift + 1\n",
    "    return ocurrences"
   ]
  },
  {
   "cell_type": "markdown",
   "metadata": {},
   "source": [
    "## **Preprocesing**"
   ]
  },
  {
   "cell_type": "markdown",
   "metadata": {},
   "source": [
    "1. **Online:** Requires Preprocessing before we pass the data into\n",
    "\n",
    "2. **Offline** Makes Preprocessing to the data"
   ]
  },
  {
   "cell_type": "markdown",
   "metadata": {},
   "source": [
    " ## **Indexing and the k-mer index**"
   ]
  },
  {
   "cell_type": "markdown",
   "metadata": {},
   "source": [
    "Indexing allow us to find values faster in the text, knowing where to begin to search, for example, having a K-mer of *K = 4* and an index of 9, our K-Mer position in the text would be between text[9,13].\n",
    "\n",
    "1. Offset: Begin of the K-Mer\n",
    "\n",
    "When we are in offset 0 and we try to implement bad character, we would fail, because we wouldn't be able to find a matching character to the left, to replace and move to the right."
   ]
  },
  {
   "cell_type": "markdown",
   "metadata": {},
   "source": [
    "### **Ordering**"
   ]
  },
  {
   "cell_type": "markdown",
   "metadata": {},
   "source": [
    "Data Structure, where we put a K-mer in one side and the index in the other side in a table like structure"
   ]
  },
  {
   "cell_type": "markdown",
   "metadata": {},
   "source": [
    "### **Binary Search**"
   ]
  },
  {
   "cell_type": "markdown",
   "metadata": {},
   "source": [
    "Binary search is an efficient algorithm for finding an item from a sorted list of items. It works by repeatedly dividing in half the portion of the list that could contain the item, until you've narrowed down the possible locations to just one. "
   ]
  },
  {
   "cell_type": "code",
   "execution_count": null,
   "metadata": {},
   "outputs": [],
   "source": []
  }
 ],
 "metadata": {
  "kernelspec": {
   "display_name": "Python 3",
   "language": "python",
   "name": "python3"
  },
  "language_info": {
   "codemirror_mode": {
    "name": "ipython",
    "version": 3
   },
   "file_extension": ".py",
   "mimetype": "text/x-python",
   "name": "python",
   "nbconvert_exporter": "python",
   "pygments_lexer": "ipython3",
   "version": "3.8.5"
  }
 },
 "nbformat": 4,
 "nbformat_minor": 4
}
