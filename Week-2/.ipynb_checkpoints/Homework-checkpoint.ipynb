{
 "cells": [
  {
   "cell_type": "markdown",
   "id": "ac65dafa-f8c2-4bbf-a10f-7cc284c2c8ed",
   "metadata": {},
   "source": [
    "# **Programming Homework 2 Instructions (Read First)**"
   ]
  },
  {
   "cell_type": "markdown",
   "id": "1d9be8de-f1a4-4d15-94aa-a93c7b35fe4e",
   "metadata": {},
   "source": [
    "In a practical, we saw Python code implementing the Boyer-Moore algorithm. Some of the code is for preprocessing the pattern P into the tables needed to execute the bad character and good suffix rules — we did not discuss that code. But we did discuss the code that performs the algorithm given those tables:"
   ]
  },
  {
   "cell_type": "code",
   "execution_count": 1,
   "id": "1002f2c5-44c0-4ddc-ac32-12991e0f151a",
   "metadata": {},
   "outputs": [],
   "source": [
    "def boyer_moore(p, p_bm, t):\n",
    "    \"\"\" Do Boyer-Moore matching. p=pattern, t=text,\n",
    "        p_bm=BoyerMoore object for p \"\"\"\n",
    "    i = 0\n",
    "    occurrences = []\n",
    "    while i < len(t) - len(p) + 1:\n",
    "        shift = 1\n",
    "        mismatched = False\n",
    "        for j in range(len(p)-1, -1, -1):\n",
    "            if p[j] != t[i+j]:\n",
    "                skip_bc = p_bm.bad_character_rule(j, t[i+j])\n",
    "                skip_gs = p_bm.good_suffix_rule(j)\n",
    "                shift = max(shift, skip_bc, skip_gs)\n",
    "                mismatched = True\n",
    "                break\n",
    "        if not mismatched:\n",
    "            occurrences.append(i)\n",
    "            skip_gs = p_bm.match_skip()\n",
    "            shift = max(shift, skip_gs)\n",
    "        i += shift\n",
    "    return occurrences"
   ]
  },
  {
   "cell_type": "markdown",
   "id": "bc0f5b69-8e9e-4bb1-973a-57dcfc51efb4",
   "metadata": {},
   "source": [
    "Measuring Boyer-Moore's benefit First, download the Python module for Boyer-Moore preprocessing:\n",
    "\n",
    "http://d28rh4a8wq0iu5.cloudfront.net/ads1/code/bm_preproc.py\n",
    "\n",
    "This module provides the BoyerMoore class, which encapsulates the preprocessing info used by the boyer_moore function above. Second, download the provided excerpt of human chromosome 1:\n",
    "\n",
    "http://d28rh4a8wq0iu5.cloudfront.net/ads1/data/chr1.GRCh38.excerpt.fasta\n",
    "\n",
    "Third, implement versions of the naive exact matching and Boyer-Moore algorithms that additionally count and return (a) the number of character comparisons performed and (b) the number of alignments tried. Roughly speaking, these measure how much work the two different algorithms are doing.\n",
    "\n",
    "For a few examples to help you test if your enhanced versions of the naive exact matching and Boyer-Moore algorithms are working properly, see these notebooks:\n",
    "\n",
    "* Naive\n",
    "\n",
    "* Boyer-Moore"
   ]
  },
  {
   "cell_type": "code",
   "execution_count": 2,
   "id": "573b73c9-8201-4160-aef5-d8b3b7509d7c",
   "metadata": {},
   "outputs": [
    {
     "name": "stdout",
     "output_type": "stream",
     "text": [
      "--2021-07-31 11:34:49--  http://d28rh4a8wq0iu5.cloudfront.net/ads1/code/bm_preproc.py\n",
      "Resolviendo d28rh4a8wq0iu5.cloudfront.net (d28rh4a8wq0iu5.cloudfront.net)... 65.9.114.31, 65.9.114.155, 65.9.114.156, ...\n",
      "Conectando con d28rh4a8wq0iu5.cloudfront.net (d28rh4a8wq0iu5.cloudfront.net)[65.9.114.31]:80... conectado.\n",
      "Petición HTTP enviada, esperando respuesta... 200 OK\n",
      "Longitud: 9400 (9.2K) [application/octet-stream]\n",
      "Grabando a: “bm_preproc.py.1”\n",
      "\n",
      "bm_preproc.py.1     100%[===================>]   9.18K  --.-KB/s    en 0.001s  \n",
      "\n",
      "2021-07-31 11:34:50 (11.5 MB/s) - “bm_preproc.py.1” guardado [9400/9400]\n",
      "\n"
     ]
    }
   ],
   "source": [
    "!wget http://d28rh4a8wq0iu5.cloudfront.net/ads1/code/bm_preproc.py"
   ]
  },
  {
   "cell_type": "code",
   "execution_count": 3,
   "id": "9629275c-c1f4-4fa6-830d-2f8c3c2a5470",
   "metadata": {},
   "outputs": [
    {
     "name": "stdout",
     "output_type": "stream",
     "text": [
      "--2021-07-31 11:35:04--  http://d28rh4a8wq0iu5.cloudfront.net/ads1/data/chr1.GRCh38.excerpt.fasta\n",
      "Resolviendo d28rh4a8wq0iu5.cloudfront.net (d28rh4a8wq0iu5.cloudfront.net)... 65.9.114.156, 65.9.114.182, 65.9.114.31, ...\n",
      "Conectando con d28rh4a8wq0iu5.cloudfront.net (d28rh4a8wq0iu5.cloudfront.net)[65.9.114.156]:80... conectado.\n",
      "Petición HTTP enviada, esperando respuesta... 200 OK\n",
      "Longitud: 810105 (791K) [application/octet-stream]\n",
      "Grabando a: “chr1.GRCh38.excerpt.fasta”\n",
      "\n",
      "chr1.GRCh38.excerpt 100%[===================>] 791.12K  2.64MB/s    en 0.3s    \n",
      "\n",
      "2021-07-31 11:35:05 (2.64 MB/s) - “chr1.GRCh38.excerpt.fasta” guardado [810105/810105]\n",
      "\n"
     ]
    }
   ],
   "source": [
    "!wget http://d28rh4a8wq0iu5.cloudfront.net/ads1/data/chr1.GRCh38.excerpt.fasta"
   ]
  },
  {
   "cell_type": "code",
   "execution_count": 28,
   "id": "60b77926-9527-4b60-8745-db2045f6ad0b",
   "metadata": {},
   "outputs": [],
   "source": [
    "from Bio import Seq, SeqIO"
   ]
  },
  {
   "cell_type": "markdown",
   "id": "6489db66-053c-48fd-8789-2f1eccc4a7b4",
   "metadata": {},
   "source": [
    "1. How many alignments does the naive exact matching algorithm try when matching the string GGCGCGGTGGCTCACGCCTGTAATCCCAGCACTTTGGGAGGCCGAGG (derived from human Alu sequences) to the excerpt of human chromosome 1?  (Don't consider reverse complements.)\n",
    "\n",
    "2. How many character comparisons does the naive exact matching algorithm try when matching the string GGCGCGGTGGCTCACGCCTGTAATCCCAGCACTTTGGGAGGCCGAGG (derived from human Alu sequences) to the excerpt of human chromosome 1?  (Don't consider reverse complements.)"
   ]
  },
  {
   "cell_type": "code",
   "execution_count": 31,
   "id": "1ef54a9d-fd02-4bb0-82c4-0b25bc961a36",
   "metadata": {},
   "outputs": [],
   "source": [
    "my_dna = \"\"\n",
    "string = \"GGCGCGGTGGCTCACGCCTGTAATCCCAGCACTTTGGGAGGCCGAGG\"\n",
    "\n",
    "for read in SeqIO.parse(\"chr1.GRCh38.excerpt.fasta\",\"fasta\"):\n",
    "    my_dna = str(read.seq)"
   ]
  },
  {
   "cell_type": "code",
   "execution_count": 32,
   "id": "5f2c204e-3d4e-4295-8261-29bd014b9cbc",
   "metadata": {},
   "outputs": [],
   "source": [
    "from collections import Counter"
   ]
  },
  {
   "cell_type": "code",
   "execution_count": 33,
   "id": "d61821f3-3586-471f-b9b6-2ee5e2e2a626",
   "metadata": {},
   "outputs": [
    {
     "data": {
      "text/plain": [
       "Counter({'T': 259344, 'G': 144991, 'A': 254581, 'C': 141084})"
      ]
     },
     "execution_count": 33,
     "metadata": {},
     "output_type": "execute_result"
    }
   ],
   "source": [
    "Counter(my_dna)"
   ]
  },
  {
   "cell_type": "code",
   "execution_count": 34,
   "id": "45f270c6-97f0-475c-941f-b683be1029a6",
   "metadata": {},
   "outputs": [],
   "source": [
    "def naive(p, t):\n",
    "    occurrences = []\n",
    "    for i in range(len(t) - len(p) + 1):  # loop over alignments\n",
    "        match = True\n",
    "        for j in range(len(p)):  # loop over characters\n",
    "            if t[i+j] != p[j]:  # compare characters\n",
    "                match = False\n",
    "                break\n",
    "        if match:\n",
    "            occurrences.append(i)  # all chars matched; record\n",
    "    return occurrences"
   ]
  },
  {
   "cell_type": "code",
   "execution_count": 35,
   "id": "1673c5a1-e407-41aa-9f42-8bebfad833da",
   "metadata": {},
   "outputs": [],
   "source": [
    "sequences = naive(string, my_dna)"
   ]
  },
  {
   "cell_type": "code",
   "execution_count": 36,
   "id": "b5c632a4-ab33-4e57-8540-7fa319ce0bcd",
   "metadata": {},
   "outputs": [
    {
     "data": {
      "text/plain": [
       "[56922]"
      ]
     },
     "execution_count": 36,
     "metadata": {},
     "output_type": "execute_result"
    }
   ],
   "source": [
    "sequences"
   ]
  },
  {
   "cell_type": "code",
   "execution_count": 37,
   "id": "add0e4b9-5c78-46a5-a00e-9d7f73687c57",
   "metadata": {},
   "outputs": [
    {
     "data": {
      "text/plain": [
       "1"
      ]
     },
     "execution_count": 37,
     "metadata": {},
     "output_type": "execute_result"
    }
   ],
   "source": [
    "my_dna.count(string)"
   ]
  },
  {
   "cell_type": "markdown",
   "id": "e1d5f0b9-7378-461d-baa6-a0e3dcfba493",
   "metadata": {},
   "source": [
    "3. How many alignments does Boyer-Moore try when matching the string GGCGCGGTGGCTCACGCCTGTAATCCCAGCACTTTGGGAGGCCGAGG(derived from human Alu sequences) to the excerpt of human chromosome 1?  (Don't consider reverse complements.)"
   ]
  },
  {
   "cell_type": "code",
   "execution_count": 39,
   "id": "bfd000d1-6f2d-422b-8937-8d21ecb55916",
   "metadata": {},
   "outputs": [],
   "source": [
    "def z_array(s):\n",
    "    \"\"\" Use Z algorithm (Gusfield theorem 1.4.1) to preprocess s \"\"\"\n",
    "    assert len(s) > 1\n",
    "    z = [len(s)] + [0] * (len(s)-1)\n",
    "\n",
    "    # Initial comparison of s[1:] with prefix\n",
    "    for i in range(1, len(s)):\n",
    "        if s[i] == s[i-1]:\n",
    "            z[1] += 1\n",
    "        else:\n",
    "            break\n",
    "\n",
    "    r, l = 0, 0\n",
    "    if z[1] > 0:\n",
    "        r, l = z[1], 1\n",
    "\n",
    "    for k in range(2, len(s)):\n",
    "        assert z[k] == 0\n",
    "        if k > r:\n",
    "            # Case 1\n",
    "            for i in range(k, len(s)):\n",
    "                if s[i] == s[i-k]:\n",
    "                    z[k] += 1\n",
    "                else:\n",
    "                    break\n",
    "            r, l = k + z[k] - 1, k\n",
    "        else:\n",
    "            # Case 2\n",
    "            # Calculate length of beta\n",
    "            nbeta = r - k + 1\n",
    "            zkp = z[k - l]\n",
    "            if nbeta > zkp:\n",
    "                # Case 2a: zkp wins\n",
    "                z[k] = zkp\n",
    "            else:\n",
    "                # Case 2b: Compare characters just past r\n",
    "                nmatch = 0\n",
    "                for i in range(r+1, len(s)):\n",
    "                    if s[i] == s[i - k]:\n",
    "                        nmatch += 1\n",
    "                    else:\n",
    "                        break\n",
    "                l, r = k, r + nmatch\n",
    "                z[k] = r - k + 1\n",
    "    return z\n",
    "\n",
    "\n",
    "def n_array(s):\n",
    "    \"\"\" Compile the N array (Gusfield theorem 2.2.2) from the Z array \"\"\"\n",
    "    return z_array(s[::-1])[::-1]\n",
    "\n",
    "\n",
    "def big_l_prime_array(p, n):\n",
    "    \"\"\" Compile L' array (Gusfield theorem 2.2.2) using p and N array.\n",
    "        L'[i] = largest index j less than n such that N[j] = |P[i:]| \"\"\"\n",
    "    lp = [0] * len(p)\n",
    "    for j in range(len(p)-1):\n",
    "        i = len(p) - n[j]\n",
    "        if i < len(p):\n",
    "            lp[i] = j + 1\n",
    "    return lp\n",
    "\n",
    "\n",
    "def big_l_array(p, lp):\n",
    "    \"\"\" Compile L array (Gusfield theorem 2.2.2) using p and L' array.\n",
    "        L[i] = largest index j less than n such that N[j] >= |P[i:]| \"\"\"\n",
    "    l = [0] * len(p)\n",
    "    l[1] = lp[1]\n",
    "    for i in range(2, len(p)):\n",
    "        l[i] = max(l[i-1], lp[i])\n",
    "    return l\n",
    "\n",
    "\n",
    "def small_l_prime_array(n):\n",
    "    \"\"\" Compile lp' array (Gusfield theorem 2.2.4) using N array. \"\"\"\n",
    "    small_lp = [0] * len(n)\n",
    "    for i in range(len(n)):\n",
    "        if n[i] == i+1:  # prefix matching a suffix\n",
    "            small_lp[len(n)-i-1] = i+1\n",
    "    for i in range(len(n)-2, -1, -1):  # \"smear\" them out to the left\n",
    "        if small_lp[i] == 0:\n",
    "            small_lp[i] = small_lp[i+1]\n",
    "    return small_lp\n",
    "\n",
    "\n",
    "def good_suffix_table(p):\n",
    "    \"\"\" Return tables needed to apply good suffix rule. \"\"\"\n",
    "    n = n_array(p)\n",
    "    lp = big_l_prime_array(p, n)\n",
    "    return lp, big_l_array(p, lp), small_l_prime_array(n)\n",
    "\n",
    "\n",
    "def good_suffix_mismatch(i, big_l_prime, small_l_prime):\n",
    "    \"\"\" Given a mismatch at offset i, and given L/L' and l' arrays,\n",
    "        return amount to shift as determined by good suffix rule. \"\"\"\n",
    "    length = len(big_l_prime)\n",
    "    assert i < length\n",
    "    if i == length - 1:\n",
    "        return 0\n",
    "    i += 1  # i points to leftmost matching position of P\n",
    "    if big_l_prime[i] > 0:\n",
    "        return length - big_l_prime[i]\n",
    "    return length - small_l_prime[i]\n",
    "\n",
    "\n",
    "def good_suffix_match(small_l_prime):\n",
    "    \"\"\" Given a full match of P to T, return amount to shift as\n",
    "        determined by good suffix rule. \"\"\"\n",
    "    return len(small_l_prime) - small_l_prime[1]\n",
    "\n",
    "\n",
    "def dense_bad_char_tab(p, amap):\n",
    "    \"\"\" Given pattern string and list with ordered alphabet characters, create\n",
    "        and return a dense bad character table.  Table is indexed by offset\n",
    "        then by character. \"\"\"\n",
    "    tab = []\n",
    "    nxt = [0] * len(amap)\n",
    "    for i in range(0, len(p)):\n",
    "        c = p[i]\n",
    "        assert c in amap\n",
    "        tab.append(nxt[:])\n",
    "        nxt[amap[c]] = i+1\n",
    "    return tab\n",
    "\n",
    "\n",
    "class BoyerMoore(object):\n",
    "    \"\"\" Encapsulates pattern and associated Boyer-Moore preprocessing. \"\"\"\n",
    "\n",
    "    def __init__(self, p, alphabet='ACGT'):\n",
    "        # Create map from alphabet characters to integers\n",
    "        self.amap = {alphabet[i]: i for i in range(len(alphabet))}\n",
    "        # Make bad character rule table\n",
    "        self.bad_char = dense_bad_char_tab(p, self.amap)\n",
    "        # Create good suffix rule table\n",
    "        _, self.big_l, self.small_l_prime = good_suffix_table(p)\n",
    "\n",
    "    def bad_character_rule(self, i, c):\n",
    "        \"\"\" Return # skips given by bad character rule at offset i \"\"\"\n",
    "        assert c in self.amap\n",
    "        assert i < len(self.bad_char)\n",
    "        ci = self.amap[c]\n",
    "        return i - (self.bad_char[i][ci]-1)\n",
    "\n",
    "    def good_suffix_rule(self, i):\n",
    "        \"\"\" Given a mismatch at offset i, return amount to shift\n",
    "            as determined by (weak) good suffix rule. \"\"\"\n",
    "        length = len(self.big_l)\n",
    "        assert i < length\n",
    "        if i == length - 1:\n",
    "            return 0\n",
    "        i += 1  # i points to leftmost matching position of P\n",
    "        if self.big_l[i] > 0:\n",
    "            return length - self.big_l[i]\n",
    "        return length - self.small_l_prime[i]\n",
    "\n",
    "    def match_skip(self):\n",
    "        \"\"\" Return amount to shift in case where P matches T \"\"\"\n",
    "        return len(self.small_l_prime) - self.small_l_prime[1]"
   ]
  },
  {
   "cell_type": "markdown",
   "id": "df512e9f-551f-48bc-b42c-31291a2f24d1",
   "metadata": {},
   "source": [
    "p_bm = Boye"
   ]
  }
 ],
 "metadata": {
  "kernelspec": {
   "display_name": "Python 3 (ipykernel)",
   "language": "python",
   "name": "python3"
  },
  "language_info": {
   "codemirror_mode": {
    "name": "ipython",
    "version": 3
   },
   "file_extension": ".py",
   "mimetype": "text/x-python",
   "name": "python",
   "nbconvert_exporter": "python",
   "pygments_lexer": "ipython3",
   "version": "3.9.6"
  }
 },
 "nbformat": 4,
 "nbformat_minor": 5
}
